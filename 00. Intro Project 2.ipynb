{
 "cells": [
  {
   "cell_type": "markdown",
   "metadata": {},
   "source": [
    "# Projekt 2\n",
    "Suchen Sie nach Problemlösungsstrategien. Ziel dieses ersten Projekts ist es sich mit Python etwas mehr vertraut zu machen. Sie betrachten dabei Systeme in der Wahrscheinlichkeits- und Fehlerrechnung von Messanalysen. (Notebook 1 - 11)\n",
    "\n",
    "## Aufgabe 2.1 - Normalverteilung\n",
    "\n",
    "Nutzen Sie NumPy um 10.000 Zufallszahlen zu generieren welche Gauß/Normalverteilt sind und erstellen Sie ein Histogramm. Modifizieren Sie die Anzahl der ``bins`` um das Gaußprofil schön darzustellen. Plotten Sie eine Gaußfunktion über das Diagramm und passen Sie die Kurve so an, dass Sie das Histogramm approximiert. \n",
    "\n",
    "## Aufgabe 2.2 - Zentraler Grenzwertsatz\n",
    "\n",
    "Der zentrale Grenzwertsatz der Wahrscheinlichkeitstheorie [central limit theorem](http://en.wikipedia.org/wiki/Central_limit_theorem) besagt, dass das arithmetrische Mittel einer großen Anzahl von unabhängigen Zufallszahlen (unabhängig von der Verteilung) gegen eine Normalverteilung strebt. Zeigen Sie dies mit matplotlib:\n",
    "\n",
    "1. Erzeugen Sie ein array ``total`` mit 10.000 Nullwerten\n",
    "2. Erzeugen Sie 10.000 random values uniform von 0 bis 1 verteilt\n",
    "3. Addieren Sie diese Zahl zum ``total`` array\n",
    "4. Wiederholen Sie Schritt 2 und 3 zehnmal, dabei Mitteln Sie über die Versuche und erstellen Sie ein Histogramm von jedem Schritt \n",
    "\n",
    "## Aufgabe 2.3 - Monte Carlo Fehlerfortpflanzung - Teil 1\n",
    "\n",
    "Gemessene Größen wie bspw. gemessene Massen, gemessene Längen unterliegen immer Messunsicherheiten. Wenn diese fehlerbehafteten Daten in eine Systemgleichung eingesetzt werden, pflanzt sich der Fehler fort, d. h. meistens werden sie größer. Das ist Bestandteil der Fehlerrechnung in den Naturwissenschaften.\n",
    "\n",
    "### Gängige Methode\n",
    "Die Grundlagen der Fehlerfortpflanzung können Sie hier nachlesen ([Regeln](http://en.wikipedia.org/wiki/Propagation_of_uncertainty#Example_formulas)). \n",
    "\n",
    "Beispielsweise haben wir folgendes System: $$F = \\frac{G~M_1~M_2}{r^2}$$\n",
    "\n",
    "Es beschreibt die Gravitationskraft zwischen zwei Körpern $M_1$ und $M_2$ mit dem Abstand $r$. Es liegen folgende Messwerte für $M_1$, $M_2$ und $r$ vor.\n",
    "\n",
    "* $M_1=40\\times10^4\\pm0.05\\times10^4\\rm{kg}$\n",
    "* $M_2=30\\times10^4\\pm0.1\\times10^4\\rm{kg}$\n",
    "* $r=3.2\\pm0.01~\\rm{m}$\n",
    "\n",
    "Die Messunsicherheiten (Messfehler) sind die Standardabweichungen der Gaussverteilung. \n",
    "\n",
    "Ferner ist die Gravitationskonstante gegeben: $G = 6.67384\\times10^{-11}~\\rm{m}^3~\\rm{kg}^{-1}~\\rm{s}^{-2}$\n",
    "\n",
    "Nutzen Sie die [Regeln der \"standard error propagation\"](http://en.wikipedia.org/wiki/Propagation_of_uncertainty#Example_formulas) um die resultiereden Gravitationskraft und die Unsicherheiten dieser Kraft zu ermitteln. Hinweis: Rechnen Sie die Gleichung von Hand aus und übertragen Sie diese dann ins Notebook mit eingesetzten Werten.\n",
    "\n",
    "### Monte Carlo Methode\n",
    "Nutzen Sie nun **Monte-Carlo** Methode zur Berechnung der Fehlerfortpflanzung. Die Idee hinter der Monte Carlo Methode ist es, alle möglichen Lösungen mittels von Zufallszahlen zu ermitteln und dann das Gesamtergebnis auszuwerten. Man geht wie folgt vor:\n",
    "\n",
    "* Es werden je 1.000.000 Zufallszahlen gezogen für $M_1$, $M_2$, und $r$, unter berücksichtigung des Mittelwerts (Messwerts) und der Standardabweichung (Messfehler/Messunsicherheit)\n",
    "* Die Gravitationskraft wird für jedes Set von gezogenen Messwerten ermittelt.\n",
    "\n",
    "**Auftrag: Führen Sie diese Aufgabe mit ``NumPy arrays`` ohne ``loops`` durch um die 1.000.000 Ergebnisse für die Gravitationskraft zu ermitteln. Erstellen Sie ein normiertes Histogramm der errechneten Werte und überplotten Sie dieses mit der Gaußfunktion.**\n",
    "\n",
    "Hinweis: Versuchen Sie die ``range`` der x Werte und die Anzahl der ``bins`` so zu wählen, dass man die Verteilungen vergleichen kann. \n",
    "\n",
    "## Aufgabe 2.4 - Monte Carlo Fehlerfortpflanzung - Teil 2\n",
    "\n",
    "Wiederholen Sie nun die Aufgabe 2.3 mit den neuen Werten für Massen und Abstand:\n",
    "\n",
    "$$M_1=40\\times10^4\\pm2\\times10^4\\rm{kg}$$\n",
    "$$M_2=30\\times10^4\\pm10\\times10^4\\rm{kg}$$\n",
    "$$r=3.2\\pm1.0~\\rm{m}$$\n",
    "\n",
    "\n",
    "Interpretieren Sie für diese Zahlendaten, welche Methode besser funktioniert. Welche ist genauer? Warum? Worin liegt genau der Vorteil der Monte-Carlo Methode?"
   ]
  },
  {
   "cell_type": "code",
   "execution_count": null,
   "metadata": {},
   "outputs": [],
   "source": []
  }
 ],
 "metadata": {
  "kernelspec": {
   "display_name": "Python 3",
   "language": "python",
   "name": "python3"
  },
  "language_info": {
   "codemirror_mode": {
    "name": "ipython",
    "version": 3
   },
   "file_extension": ".py",
   "mimetype": "text/x-python",
   "name": "python",
   "nbconvert_exporter": "python",
   "pygments_lexer": "ipython3",
   "version": "3.8.3"
  }
 },
 "nbformat": 4,
 "nbformat_minor": 4
}
