{
 "cells": [
  {
   "cell_type": "code",
   "execution_count": 113,
   "metadata": {},
   "outputs": [],
   "source": [
    "import numpy as np\n",
    "import math \n",
    "import random\n",
    "import matplotlib.pyplot as plt\n",
    "%matplotlib inline"
   ]
  },
  {
   "cell_type": "code",
   "execution_count": 114,
   "metadata": {},
   "outputs": [
    {
     "data": {
      "text/plain": [
       "0.7820906249999999"
      ]
     },
     "execution_count": 114,
     "metadata": {},
     "output_type": "execute_result"
    }
   ],
   "source": [
    "# Variablen\n",
    "\n",
    "g = 6.67384*pow(10, -11)\n",
    "m1 = 40*pow(10, 4)\n",
    "m2 = 30*pow(10, 4)\n",
    "r = 3.2\n",
    "\n",
    "m1_fehler = 0.05*pow(10, 4)\n",
    "m2_fehler = 0.1*pow(10, 4)\n",
    "r_fehler = 0.01\n",
    "\n",
    "m1_lower_limit = m1 - m1_fehler\n",
    "m1_upper_limit = m1 + m1_fehler\n",
    "\n",
    "m2_lower_limit = m2 - m2_fehler\n",
    "m2_upper_limit = m2 + m2_fehler\n",
    "\n",
    "r_lower_limit = r - r_fehler\n",
    "r_upper_limit = r + r_fehler\n",
    "\n",
    "f = (g*m1*m2)/r**2\n",
    "f"
   ]
  },
  {
   "cell_type": "code",
   "execution_count": 115,
   "metadata": {},
   "outputs": [
    {
     "data": {
      "text/plain": [
       "400412"
      ]
     },
     "execution_count": 115,
     "metadata": {},
     "output_type": "execute_result"
    }
   ],
   "source": [
    "p = random.randrange(m1_lower_limit, m1_upper_limit)\n",
    "p"
   ]
  },
  {
   "cell_type": "code",
   "execution_count": 116,
   "metadata": {},
   "outputs": [],
   "source": [
    "def random_number(size, lower_limit, upper_limit):\n",
    "    numList = []\n",
    "    numList=(np.random.uniform(lower_limit, upper_limit,size))    \n",
    "    return numList\n",
    "\n",
    "list_m1 = random_number(1_000_000, m1_lower_limit, m1_upper_limit)\n",
    "list_m2 = random_number(1_000_000, m2_lower_limit, m2_upper_limit)\n",
    "list_r = random_number(1_000_000, r_lower_limit, r_upper_limit)\n",
    "\n",
    "\n",
    "#print(list_m1)\n",
    "#print(list_m2)\n",
    "#print(list_r)"
   ]
  },
  {
   "cell_type": "code",
   "execution_count": 117,
   "metadata": {},
   "outputs": [],
   "source": [
    "#x = list_m1[0]\n",
    "#print(x)"
   ]
  },
  {
   "cell_type": "code",
   "execution_count": 118,
   "metadata": {},
   "outputs": [
    {
     "data": {
      "text/plain": [
       "array([0.77964111, 0.78335803, 0.78507142, ..., 0.78266427, 0.78136878,\n",
       "       0.78051759])"
      ]
     },
     "execution_count": 118,
     "metadata": {},
     "output_type": "execute_result"
    }
   ],
   "source": [
    "solutions = (g*list_m1*list_m2)/list_r**2\n",
    "solutions "
   ]
  },
  {
   "cell_type": "code",
   "execution_count": 119,
   "metadata": {},
   "outputs": [
    {
     "data": {
      "image/png": "[encoded data removed]",
      "text/plain": [
       "<Figure size 432x288 with 1 Axes>"
      ]
     },
     "metadata": {
      "needs_background": "light"
     },
     "output_type": "display_data"
    }
   ],
   "source": [
    "\n",
    "h = plt.hist(solutions)"
   ]
  },
  {
   "cell_type": "code",
   "execution_count": null,
   "metadata": {},
   "outputs": [],
   "source": []
  }
 ],
 "metadata": {
  "kernelspec": {
   "display_name": "Python 3",
   "language": "python",
   "name": "python3"
  },
  "language_info": {
   "codemirror_mode": {
    "name": "ipython",
    "version": 3
   },
   "file_extension": ".py",
   "mimetype": "text/x-python",
   "name": "python",
   "nbconvert_exporter": "python",
   "pygments_lexer": "ipython3",
   "version": "3.8.5"
  }
 },
 "nbformat": 4,
 "nbformat_minor": 4
}
