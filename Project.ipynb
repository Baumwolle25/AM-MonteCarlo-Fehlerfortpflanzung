{
 "metadata": {
  "language_info": {
   "codemirror_mode": {
    "name": "ipython",
    "version": 3
   },
   "file_extension": ".py",
   "mimetype": "text/x-python",
   "name": "python",
   "nbconvert_exporter": "python",
   "pygments_lexer": "ipython3",
   "version": "3.9.2"
  },
  "orig_nbformat": 2,
  "kernelspec": {
   "name": "python392jvsc74a57bd086b7ff3cad48129fe2c74e38aa4d069dda00f9162f383ad625bb2610c7022dc5",
   "display_name": "Python 3.9.2 64-bit ('maths': venv)"
  }
 },
 "nbformat": 4,
 "nbformat_minor": 2,
 "cells": [
  {
   "source": [
    "# Project 1\n",
    "\n",
    "## 0. Table of contents\n",
    "0. Table of contents\n",
    "1. Introduction\n",
    "    1. Monte Carlo Simulations\n",
    "        1. What is Monte Carlo\n",
    "2. Methods and approach\n",
    "    1. Plots\n",
    "3. Results\n",
    "4. Discussion and application\n",
    "5. Summary and lookout\n",
    "6. Appendices\n",
    "\n",
    "## 1. Introduction"
   ],
   "cell_type": "markdown",
   "metadata": {}
  },
  {
   "source": [
    "## 2. Methods and approach"
   ],
   "cell_type": "markdown",
   "metadata": {}
  },
  {
   "source": [
    "## 3. Results"
   ],
   "cell_type": "markdown",
   "metadata": {}
  },
  {
   "source": [
    "## 4. Discussion and application"
   ],
   "cell_type": "markdown",
   "metadata": {}
  },
  {
   "source": [
    "## 5. Summary and lookout"
   ],
   "cell_type": "markdown",
   "metadata": {}
  },
  {
   "source": [
    "## 6. Appendices"
   ],
   "cell_type": "markdown",
   "metadata": {}
  }
 ]
}